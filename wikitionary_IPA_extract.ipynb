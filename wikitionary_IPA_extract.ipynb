{
  "nbformat": 4,
  "nbformat_minor": 0,
  "metadata": {
    "colab": {
      "name": "wikitionary-IPA-extract.ipynb",
      "provenance": [],
      "collapsed_sections": [],
      "authorship_tag": "ABX9TyNx9TwHAw9zke7GRre0riUY",
      "include_colab_link": true
    },
    "kernelspec": {
      "name": "python3",
      "display_name": "Python 3"
    },
    "language_info": {
      "name": "python"
    },
    "widgets": {
      "application/vnd.jupyter.widget-state+json": {
        "889a78a4b78e4bd6aaa07a5ab2b9425c": {
          "model_module": "@jupyter-widgets/controls",
          "model_name": "HBoxModel",
          "model_module_version": "1.5.0",
          "state": {
            "_dom_classes": [],
            "_model_module": "@jupyter-widgets/controls",
            "_model_module_version": "1.5.0",
            "_model_name": "HBoxModel",
            "_view_count": null,
            "_view_module": "@jupyter-widgets/controls",
            "_view_module_version": "1.5.0",
            "_view_name": "HBoxView",
            "box_style": "",
            "children": [
              "IPY_MODEL_282f1c03aa9b49f4a9ba93a91e6216f5",
              "IPY_MODEL_15ca538754b64e899eaf663d2abe5a1e",
              "IPY_MODEL_ea6f7ba47f2548a2b6fc1e8f49120208"
            ],
            "layout": "IPY_MODEL_de9de855b1624241bc095e9ab72a0a61"
          }
        },
        "282f1c03aa9b49f4a9ba93a91e6216f5": {
          "model_module": "@jupyter-widgets/controls",
          "model_name": "HTMLModel",
          "model_module_version": "1.5.0",
          "state": {
            "_dom_classes": [],
            "_model_module": "@jupyter-widgets/controls",
            "_model_module_version": "1.5.0",
            "_model_name": "HTMLModel",
            "_view_count": null,
            "_view_module": "@jupyter-widgets/controls",
            "_view_module_version": "1.5.0",
            "_view_name": "HTMLView",
            "description": "",
            "description_tooltip": null,
            "layout": "IPY_MODEL_02727ee017ce4534bb2931af59e981b4",
            "placeholder": "​",
            "style": "IPY_MODEL_f18ce19e01224b7eb1db0040e1ee8b37",
            "value": "100%"
          }
        },
        "15ca538754b64e899eaf663d2abe5a1e": {
          "model_module": "@jupyter-widgets/controls",
          "model_name": "FloatProgressModel",
          "model_module_version": "1.5.0",
          "state": {
            "_dom_classes": [],
            "_model_module": "@jupyter-widgets/controls",
            "_model_module_version": "1.5.0",
            "_model_name": "FloatProgressModel",
            "_view_count": null,
            "_view_module": "@jupyter-widgets/controls",
            "_view_module_version": "1.5.0",
            "_view_name": "ProgressView",
            "bar_style": "success",
            "description": "",
            "description_tooltip": null,
            "layout": "IPY_MODEL_e9391b48910e4c519aa599a51cccacb6",
            "max": 219,
            "min": 0,
            "orientation": "horizontal",
            "style": "IPY_MODEL_3894d22e7c964b8eb5a90ff9d85a0044",
            "value": 219
          }
        },
        "ea6f7ba47f2548a2b6fc1e8f49120208": {
          "model_module": "@jupyter-widgets/controls",
          "model_name": "HTMLModel",
          "model_module_version": "1.5.0",
          "state": {
            "_dom_classes": [],
            "_model_module": "@jupyter-widgets/controls",
            "_model_module_version": "1.5.0",
            "_model_name": "HTMLModel",
            "_view_count": null,
            "_view_module": "@jupyter-widgets/controls",
            "_view_module_version": "1.5.0",
            "_view_name": "HTMLView",
            "description": "",
            "description_tooltip": null,
            "layout": "IPY_MODEL_8bd5bd71d904401cb111ec6c0eb07baa",
            "placeholder": "​",
            "style": "IPY_MODEL_4a59c473957a4d5eb05aed688ef8788e",
            "value": " 219/219 [01:20&lt;00:00,  2.83it/s]"
          }
        },
        "de9de855b1624241bc095e9ab72a0a61": {
          "model_module": "@jupyter-widgets/base",
          "model_name": "LayoutModel",
          "model_module_version": "1.2.0",
          "state": {
            "_model_module": "@jupyter-widgets/base",
            "_model_module_version": "1.2.0",
            "_model_name": "LayoutModel",
            "_view_count": null,
            "_view_module": "@jupyter-widgets/base",
            "_view_module_version": "1.2.0",
            "_view_name": "LayoutView",
            "align_content": null,
            "align_items": null,
            "align_self": null,
            "border": null,
            "bottom": null,
            "display": null,
            "flex": null,
            "flex_flow": null,
            "grid_area": null,
            "grid_auto_columns": null,
            "grid_auto_flow": null,
            "grid_auto_rows": null,
            "grid_column": null,
            "grid_gap": null,
            "grid_row": null,
            "grid_template_areas": null,
            "grid_template_columns": null,
            "grid_template_rows": null,
            "height": null,
            "justify_content": null,
            "justify_items": null,
            "left": null,
            "margin": null,
            "max_height": null,
            "max_width": null,
            "min_height": null,
            "min_width": null,
            "object_fit": null,
            "object_position": null,
            "order": null,
            "overflow": null,
            "overflow_x": null,
            "overflow_y": null,
            "padding": null,
            "right": null,
            "top": null,
            "visibility": null,
            "width": null
          }
        },
        "02727ee017ce4534bb2931af59e981b4": {
          "model_module": "@jupyter-widgets/base",
          "model_name": "LayoutModel",
          "model_module_version": "1.2.0",
          "state": {
            "_model_module": "@jupyter-widgets/base",
            "_model_module_version": "1.2.0",
            "_model_name": "LayoutModel",
            "_view_count": null,
            "_view_module": "@jupyter-widgets/base",
            "_view_module_version": "1.2.0",
            "_view_name": "LayoutView",
            "align_content": null,
            "align_items": null,
            "align_self": null,
            "border": null,
            "bottom": null,
            "display": null,
            "flex": null,
            "flex_flow": null,
            "grid_area": null,
            "grid_auto_columns": null,
            "grid_auto_flow": null,
            "grid_auto_rows": null,
            "grid_column": null,
            "grid_gap": null,
            "grid_row": null,
            "grid_template_areas": null,
            "grid_template_columns": null,
            "grid_template_rows": null,
            "height": null,
            "justify_content": null,
            "justify_items": null,
            "left": null,
            "margin": null,
            "max_height": null,
            "max_width": null,
            "min_height": null,
            "min_width": null,
            "object_fit": null,
            "object_position": null,
            "order": null,
            "overflow": null,
            "overflow_x": null,
            "overflow_y": null,
            "padding": null,
            "right": null,
            "top": null,
            "visibility": null,
            "width": null
          }
        },
        "f18ce19e01224b7eb1db0040e1ee8b37": {
          "model_module": "@jupyter-widgets/controls",
          "model_name": "DescriptionStyleModel",
          "model_module_version": "1.5.0",
          "state": {
            "_model_module": "@jupyter-widgets/controls",
            "_model_module_version": "1.5.0",
            "_model_name": "DescriptionStyleModel",
            "_view_count": null,
            "_view_module": "@jupyter-widgets/base",
            "_view_module_version": "1.2.0",
            "_view_name": "StyleView",
            "description_width": ""
          }
        },
        "e9391b48910e4c519aa599a51cccacb6": {
          "model_module": "@jupyter-widgets/base",
          "model_name": "LayoutModel",
          "model_module_version": "1.2.0",
          "state": {
            "_model_module": "@jupyter-widgets/base",
            "_model_module_version": "1.2.0",
            "_model_name": "LayoutModel",
            "_view_count": null,
            "_view_module": "@jupyter-widgets/base",
            "_view_module_version": "1.2.0",
            "_view_name": "LayoutView",
            "align_content": null,
            "align_items": null,
            "align_self": null,
            "border": null,
            "bottom": null,
            "display": null,
            "flex": null,
            "flex_flow": null,
            "grid_area": null,
            "grid_auto_columns": null,
            "grid_auto_flow": null,
            "grid_auto_rows": null,
            "grid_column": null,
            "grid_gap": null,
            "grid_row": null,
            "grid_template_areas": null,
            "grid_template_columns": null,
            "grid_template_rows": null,
            "height": null,
            "justify_content": null,
            "justify_items": null,
            "left": null,
            "margin": null,
            "max_height": null,
            "max_width": null,
            "min_height": null,
            "min_width": null,
            "object_fit": null,
            "object_position": null,
            "order": null,
            "overflow": null,
            "overflow_x": null,
            "overflow_y": null,
            "padding": null,
            "right": null,
            "top": null,
            "visibility": null,
            "width": null
          }
        },
        "3894d22e7c964b8eb5a90ff9d85a0044": {
          "model_module": "@jupyter-widgets/controls",
          "model_name": "ProgressStyleModel",
          "model_module_version": "1.5.0",
          "state": {
            "_model_module": "@jupyter-widgets/controls",
            "_model_module_version": "1.5.0",
            "_model_name": "ProgressStyleModel",
            "_view_count": null,
            "_view_module": "@jupyter-widgets/base",
            "_view_module_version": "1.2.0",
            "_view_name": "StyleView",
            "bar_color": null,
            "description_width": ""
          }
        },
        "8bd5bd71d904401cb111ec6c0eb07baa": {
          "model_module": "@jupyter-widgets/base",
          "model_name": "LayoutModel",
          "model_module_version": "1.2.0",
          "state": {
            "_model_module": "@jupyter-widgets/base",
            "_model_module_version": "1.2.0",
            "_model_name": "LayoutModel",
            "_view_count": null,
            "_view_module": "@jupyter-widgets/base",
            "_view_module_version": "1.2.0",
            "_view_name": "LayoutView",
            "align_content": null,
            "align_items": null,
            "align_self": null,
            "border": null,
            "bottom": null,
            "display": null,
            "flex": null,
            "flex_flow": null,
            "grid_area": null,
            "grid_auto_columns": null,
            "grid_auto_flow": null,
            "grid_auto_rows": null,
            "grid_column": null,
            "grid_gap": null,
            "grid_row": null,
            "grid_template_areas": null,
            "grid_template_columns": null,
            "grid_template_rows": null,
            "height": null,
            "justify_content": null,
            "justify_items": null,
            "left": null,
            "margin": null,
            "max_height": null,
            "max_width": null,
            "min_height": null,
            "min_width": null,
            "object_fit": null,
            "object_position": null,
            "order": null,
            "overflow": null,
            "overflow_x": null,
            "overflow_y": null,
            "padding": null,
            "right": null,
            "top": null,
            "visibility": null,
            "width": null
          }
        },
        "4a59c473957a4d5eb05aed688ef8788e": {
          "model_module": "@jupyter-widgets/controls",
          "model_name": "DescriptionStyleModel",
          "model_module_version": "1.5.0",
          "state": {
            "_model_module": "@jupyter-widgets/controls",
            "_model_module_version": "1.5.0",
            "_model_name": "DescriptionStyleModel",
            "_view_count": null,
            "_view_module": "@jupyter-widgets/base",
            "_view_module_version": "1.2.0",
            "_view_name": "StyleView",
            "description_width": ""
          }
        }
      }
    }
  },
  "cells": [
    {
      "cell_type": "markdown",
      "metadata": {
        "id": "view-in-github",
        "colab_type": "text"
      },
      "source": [
        "<a href=\"https://colab.research.google.com/github/npnkhoi/vn-asr/blob/master/wikitionary_IPA_extract.ipynb\" target=\"_parent\"><img src=\"https://colab.research.google.com/assets/colab-badge.svg\" alt=\"Open In Colab\"/></a>"
      ]
    },
    {
      "cell_type": "markdown",
      "source": [
        "https://cotich.net/truyen-co-tich-tam-cam-a350.html\n"
      ],
      "metadata": {
        "id": "gPhevXk8B7ZK"
      }
    },
    {
      "cell_type": "markdown",
      "source": [
        "# Bỏ : ở nguyên âm"
      ],
      "metadata": {
        "id": "2SLs3NdF60HQ"
      }
    },
    {
      "cell_type": "code",
      "execution_count": 143,
      "metadata": {
        "id": "Ig_EA9SXBywp"
      },
      "outputs": [],
      "source": [
        "import requests\n",
        "from bs4 import BeautifulSoup\n",
        "from time import sleep\n",
        "from tqdm.notebook import tqdm # print progress bar\n",
        "import pandas as pd"
      ]
    },
    {
      "cell_type": "code",
      "source": [
        "def extract_IPA_from_html_vi(s):\n",
        "  return s[s.find('>')+1: s.find('<',1)]\n",
        "\n",
        "def extract_IPA_from_html_en(s):\n",
        "  return s[s.find('[')+1: s.find(']')]"
      ],
      "metadata": {
        "id": "hnzItfCQOmN_"
      },
      "execution_count": 144,
      "outputs": []
    },
    {
      "cell_type": "code",
      "source": [
        "def tokenizer(string):\n",
        "  string = string.lower()\n",
        "  token_list = string.split()\n",
        "  return token_list"
      ],
      "metadata": {
        "id": "l9-Qp89QwCKE"
      },
      "execution_count": 145,
      "outputs": []
    },
    {
      "cell_type": "code",
      "source": [
        "def IPA_extractor_vi(token):\n",
        "  # page = requests.get(f\"https://en.wiktionary.org/wiki/{token}\")\n",
        "  page = requests.get(f\"https://vi.wiktionary.org/wiki/{token}#Tiếng_Việt\")\n",
        "  \n",
        "  soup = BeautifulSoup(page.content, 'html.parser')\n",
        "  SG_IPA = soup.find_all(class_='wiktvi-vie-pron-sg')\n",
        "  if len(SG_IPA) > 0:\n",
        "    IPA = SG_IPA[0].find_all(class_='IPA')[0]\n",
        "    IPA_tone = SG_IPA[0].find_all(class_='IPA')[0].find_all(class_='IPA-tone')[0]\n",
        "    return extract_IPA_from_html_vi(str(IPA)), extract_IPA_from_html_vi(str(IPA_tone))\n",
        "  else:\n",
        "    return None\n",
        "\n",
        "def IPA_extractor_en(token):\n",
        "  page = requests.get(f\"https://en.wiktionary.org/wiki/{token}\")\n",
        "  soup = BeautifulSoup(page.content, 'html.parser')\n",
        "  IPA = soup.find_all(class_='IPA')\n",
        "  try:\n",
        "    return extract_IPA_from_html_en(str(IPA[2]))\n",
        "  except:\n",
        "    return token"
      ],
      "metadata": {
        "id": "WLqcPDYLKXTl"
      },
      "execution_count": 146,
      "outputs": []
    },
    {
      "cell_type": "code",
      "source": [
        "s = \"Theo dự thảo phòng chống Covid-19 với người nhập cảnh đang được lấy ý kiến\"\n",
        "token_list = tokenizer(s)\n",
        "for i in range(len(token_list)):\n",
        "  print(IPA_extractor(token_list[i]))"
      ],
      "metadata": {
        "colab": {
          "base_uri": "https://localhost:8080/"
        },
        "id": "0_fkur_6eZQP",
        "outputId": "6d03ccda-2a60-45bd-c671-b53166391839"
      },
      "execution_count": 147,
      "outputs": [
        {
          "output_type": "stream",
          "name": "stdout",
          "text": [
            "('tʰɛw', '˧˧')\n",
            "('jɨ', '˨˩˨')\n",
            "('tʰaːw', '˨˩˦')\n",
            "('fawŋ', '˨˩')\n",
            "('ʨəwŋ', '˧˥')\n",
            "None\n",
            "('jəːj', '˧˥')\n",
            "('ŋɨəj', '˨˩')\n",
            "('ɲəp', '˨˩˨')\n",
            "('kan', '˨˩˦')\n",
            "('ɗaːŋ', '˧˧')\n",
            "('ɗɨək', '˨˩˨')\n",
            "('ləj', '˧˥')\n",
            "('i', '˧˥')\n",
            "('kiəŋ', '˧˥')\n"
          ]
        }
      ]
    },
    {
      "cell_type": "code",
      "source": [
        "wikitionary_IPA_tone_list = {\n",
        "    'ngang': '˧˧', \n",
        "    'sắc': '˦˥',\n",
        "    'huyền': '˨˩',\n",
        "    'hỏi': '˨˩˦', \n",
        "    'ngã': '˨˩˦',\n",
        "    'nặng': '˨˩˨'\n",
        "}\n",
        "\n",
        "wikipedia_IPA_tone_list = {\n",
        "    'ngang': '˧', \n",
        "    'sắc': '˧˥',\n",
        "    'huyền': '˨˩',\n",
        "    'hỏi': '˧˩˧', \n",
        "    'ngã': '˨˩˦',\n",
        "    'nặng': '˨˧'\n",
        "}"
      ],
      "metadata": {
        "id": "ETHwjK_0PD2C"
      },
      "execution_count": 148,
      "outputs": []
    },
    {
      "cell_type": "code",
      "source": [
        "phoneme_db = pd.read_csv('phonemes.csv')"
      ],
      "metadata": {
        "id": "oTYEzR0Ct5RH"
      },
      "execution_count": 149,
      "outputs": []
    },
    {
      "cell_type": "code",
      "source": [
        "# clean db\n",
        "phoneme_db['num_char'] = phoneme_db.phoneme.str.len()"
      ],
      "metadata": {
        "id": "IcaM-YSflqYI"
      },
      "execution_count": 150,
      "outputs": []
    },
    {
      "cell_type": "code",
      "source": [
        "phoneme_db.sample(5)"
      ],
      "metadata": {
        "colab": {
          "base_uri": "https://localhost:8080/",
          "height": 206
        },
        "id": "KnzV6U_-uTmf",
        "outputId": "37c6e5ed-8c2e-4612-c578-c9e32f84299c"
      },
      "execution_count": 151,
      "outputs": [
        {
          "output_type": "execute_result",
          "data": {
            "text/plain": [
              "                  note phoneme    examples  num_char\n",
              "33              Vowels       ɐ          ăn         1\n",
              "13  Initial consonants       p         pin         1\n",
              "29    Final consonants       k    xuất, ác         1\n",
              "25    Final consonants       ŋ  ban, trứng         1\n",
              "11  Initial consonants       ɲ         nhà         1"
            ],
            "text/html": [
              "\n",
              "  <div id=\"df-f8b1f20a-105c-477d-8041-ea0d2cdf9dcf\">\n",
              "    <div class=\"colab-df-container\">\n",
              "      <div>\n",
              "<style scoped>\n",
              "    .dataframe tbody tr th:only-of-type {\n",
              "        vertical-align: middle;\n",
              "    }\n",
              "\n",
              "    .dataframe tbody tr th {\n",
              "        vertical-align: top;\n",
              "    }\n",
              "\n",
              "    .dataframe thead th {\n",
              "        text-align: right;\n",
              "    }\n",
              "</style>\n",
              "<table border=\"1\" class=\"dataframe\">\n",
              "  <thead>\n",
              "    <tr style=\"text-align: right;\">\n",
              "      <th></th>\n",
              "      <th>note</th>\n",
              "      <th>phoneme</th>\n",
              "      <th>examples</th>\n",
              "      <th>num_char</th>\n",
              "    </tr>\n",
              "  </thead>\n",
              "  <tbody>\n",
              "    <tr>\n",
              "      <th>33</th>\n",
              "      <td>Vowels</td>\n",
              "      <td>ɐ</td>\n",
              "      <td>ăn</td>\n",
              "      <td>1</td>\n",
              "    </tr>\n",
              "    <tr>\n",
              "      <th>13</th>\n",
              "      <td>Initial consonants</td>\n",
              "      <td>p</td>\n",
              "      <td>pin</td>\n",
              "      <td>1</td>\n",
              "    </tr>\n",
              "    <tr>\n",
              "      <th>29</th>\n",
              "      <td>Final consonants</td>\n",
              "      <td>k</td>\n",
              "      <td>xuất, ác</td>\n",
              "      <td>1</td>\n",
              "    </tr>\n",
              "    <tr>\n",
              "      <th>25</th>\n",
              "      <td>Final consonants</td>\n",
              "      <td>ŋ</td>\n",
              "      <td>ban, trứng</td>\n",
              "      <td>1</td>\n",
              "    </tr>\n",
              "    <tr>\n",
              "      <th>11</th>\n",
              "      <td>Initial consonants</td>\n",
              "      <td>ɲ</td>\n",
              "      <td>nhà</td>\n",
              "      <td>1</td>\n",
              "    </tr>\n",
              "  </tbody>\n",
              "</table>\n",
              "</div>\n",
              "      <button class=\"colab-df-convert\" onclick=\"convertToInteractive('df-f8b1f20a-105c-477d-8041-ea0d2cdf9dcf')\"\n",
              "              title=\"Convert this dataframe to an interactive table.\"\n",
              "              style=\"display:none;\">\n",
              "        \n",
              "  <svg xmlns=\"http://www.w3.org/2000/svg\" height=\"24px\"viewBox=\"0 0 24 24\"\n",
              "       width=\"24px\">\n",
              "    <path d=\"M0 0h24v24H0V0z\" fill=\"none\"/>\n",
              "    <path d=\"M18.56 5.44l.94 2.06.94-2.06 2.06-.94-2.06-.94-.94-2.06-.94 2.06-2.06.94zm-11 1L8.5 8.5l.94-2.06 2.06-.94-2.06-.94L8.5 2.5l-.94 2.06-2.06.94zm10 10l.94 2.06.94-2.06 2.06-.94-2.06-.94-.94-2.06-.94 2.06-2.06.94z\"/><path d=\"M17.41 7.96l-1.37-1.37c-.4-.4-.92-.59-1.43-.59-.52 0-1.04.2-1.43.59L10.3 9.45l-7.72 7.72c-.78.78-.78 2.05 0 2.83L4 21.41c.39.39.9.59 1.41.59.51 0 1.02-.2 1.41-.59l7.78-7.78 2.81-2.81c.8-.78.8-2.07 0-2.86zM5.41 20L4 18.59l7.72-7.72 1.47 1.35L5.41 20z\"/>\n",
              "  </svg>\n",
              "      </button>\n",
              "      \n",
              "  <style>\n",
              "    .colab-df-container {\n",
              "      display:flex;\n",
              "      flex-wrap:wrap;\n",
              "      gap: 12px;\n",
              "    }\n",
              "\n",
              "    .colab-df-convert {\n",
              "      background-color: #E8F0FE;\n",
              "      border: none;\n",
              "      border-radius: 50%;\n",
              "      cursor: pointer;\n",
              "      display: none;\n",
              "      fill: #1967D2;\n",
              "      height: 32px;\n",
              "      padding: 0 0 0 0;\n",
              "      width: 32px;\n",
              "    }\n",
              "\n",
              "    .colab-df-convert:hover {\n",
              "      background-color: #E2EBFA;\n",
              "      box-shadow: 0px 1px 2px rgba(60, 64, 67, 0.3), 0px 1px 3px 1px rgba(60, 64, 67, 0.15);\n",
              "      fill: #174EA6;\n",
              "    }\n",
              "\n",
              "    [theme=dark] .colab-df-convert {\n",
              "      background-color: #3B4455;\n",
              "      fill: #D2E3FC;\n",
              "    }\n",
              "\n",
              "    [theme=dark] .colab-df-convert:hover {\n",
              "      background-color: #434B5C;\n",
              "      box-shadow: 0px 1px 3px 1px rgba(0, 0, 0, 0.15);\n",
              "      filter: drop-shadow(0px 1px 2px rgba(0, 0, 0, 0.3));\n",
              "      fill: #FFFFFF;\n",
              "    }\n",
              "  </style>\n",
              "\n",
              "      <script>\n",
              "        const buttonEl =\n",
              "          document.querySelector('#df-f8b1f20a-105c-477d-8041-ea0d2cdf9dcf button.colab-df-convert');\n",
              "        buttonEl.style.display =\n",
              "          google.colab.kernel.accessAllowed ? 'block' : 'none';\n",
              "\n",
              "        async function convertToInteractive(key) {\n",
              "          const element = document.querySelector('#df-f8b1f20a-105c-477d-8041-ea0d2cdf9dcf');\n",
              "          const dataTable =\n",
              "            await google.colab.kernel.invokeFunction('convertToInteractive',\n",
              "                                                     [key], {});\n",
              "          if (!dataTable) return;\n",
              "\n",
              "          const docLinkHtml = 'Like what you see? Visit the ' +\n",
              "            '<a target=\"_blank\" href=https://colab.research.google.com/notebooks/data_table.ipynb>data table notebook</a>'\n",
              "            + ' to learn more about interactive tables.';\n",
              "          element.innerHTML = '';\n",
              "          dataTable['output_type'] = 'display_data';\n",
              "          await google.colab.output.renderOutput(dataTable, element);\n",
              "          const docLink = document.createElement('div');\n",
              "          docLink.innerHTML = docLinkHtml;\n",
              "          element.appendChild(docLink);\n",
              "        }\n",
              "      </script>\n",
              "    </div>\n",
              "  </div>\n",
              "  "
            ]
          },
          "metadata": {},
          "execution_count": 151
        }
      ]
    },
    {
      "cell_type": "code",
      "source": [
        "def find_tone(IPA_string):\n",
        "  tone = ''\n",
        "  for t in wikitionary_IPA_tone_list.values():\n",
        "    if t in IPA_string:\n",
        "      tone = t\n",
        "      break\n",
        "  return tone"
      ],
      "metadata": {
        "id": "seA7Eruu3k23"
      },
      "execution_count": 152,
      "outputs": []
    },
    {
      "cell_type": "code",
      "source": [
        "def add_tone(vowel, tone):\n",
        "  if tone != wikitionary_IPA_tone_list['ngang']:\n",
        "    return vowel + tone\n",
        "  return vowel"
      ],
      "metadata": {
        "id": "veTnROfs2pzh"
      },
      "execution_count": 153,
      "outputs": []
    },
    {
      "cell_type": "code",
      "source": [
        "def segmentize_phoneme(IPA_string, tone):\n",
        "  phonemes = []\n",
        "  # segmentize initial consonant, prioritize more chars in the IPA first\n",
        "  for initial in phoneme_db[phoneme_db.note == 'Initial consonants'].sort_values(by=['num_char'], ascending=False).phoneme:\n",
        "    if initial == IPA_string[0:2]:\n",
        "      phonemes.append(initial)\n",
        "      IPA_string = IPA_string[2:]\n",
        "      break\n",
        "    # elif f'?{initial}' == IPA_string[0:2]:\n",
        "    #   phonemes.append(f'?{initial}')\n",
        "    #   IPA_string = IPA_string[2:]\n",
        "    #   break\n",
        "    elif initial == IPA_string[0]:\n",
        "      phonemes.append(initial)\n",
        "      IPA_string = IPA_string[1:]\n",
        "      break\n",
        "    \n",
        "  # segmentize diphthong\n",
        "  for diphthong in phoneme_db[phoneme_db.note == 'Diphthongs'].sort_values(by=['num_char'], ascending=False).phoneme:\n",
        "    if diphthong == IPA_string[:2]:\n",
        "      IPA_string = IPA_string[2:]\n",
        "      phonemes.append(add_tone(diphthong, tone))\n",
        "      break\n",
        "\n",
        "  # segmentize vowel\n",
        "  for vowel in phoneme_db[phoneme_db.note == 'Vowels'].sort_values(by=['num_char'], ascending=False).phoneme:\n",
        "    if vowel == IPA_string[0:2]:\n",
        "      IPA_string = IPA_string[2:]\n",
        "      phonemes.append(add_tone(vowel, tone))\n",
        "      break\n",
        "    elif vowel == IPA_string[0]:\n",
        "      IPA_string = IPA_string[1:]\n",
        "      phonemes.append(add_tone(vowel, tone))\n",
        "      break\n",
        "  \n",
        "  # segmentize final consonant\n",
        "  for final in phoneme_db[phoneme_db.note == 'Final consonants'].phoneme:\n",
        "    if final == IPA_string[0:2]:\n",
        "      phonemes.append(final)\n",
        "      IPA_string = IPA_string[2:]\n",
        "      break\n",
        "    elif final == IPA_string[0]:\n",
        "      phonemes.append(final)\n",
        "      IPA_string = IPA_string[1:]\n",
        "      break\n",
        "  \n",
        "  sleep(0.1)\n",
        "\n",
        "  return phonemes"
      ],
      "metadata": {
        "id": "HeO1kf6UrtIF"
      },
      "execution_count": 154,
      "outputs": []
    },
    {
      "cell_type": "code",
      "source": [
        "string = 'cha'\n",
        "IPA_en = IPA_extractor_en(string)\n",
        "IPA_vn, tone = IPA_extractor_vi(string)\n",
        "# segmentize_phoneme(IPA, find_tone(IPA))\n",
        "IPA_en, IPA_vn"
      ],
      "metadata": {
        "colab": {
          "base_uri": "https://localhost:8080/"
        },
        "id": "9ZriMCfdvoLw",
        "outputId": "7149453d-766d-48f3-c024-ab286bdda116"
      },
      "execution_count": 173,
      "outputs": [
        {
          "output_type": "execute_result",
          "data": {
            "text/plain": [
              "('<span class=\"IPA\">-ɑː</span', 'ʨaː')"
            ]
          },
          "metadata": {},
          "execution_count": 173
        }
      ]
    },
    {
      "cell_type": "code",
      "source": [
        "with open('story.txt') as f:\n",
        "  text = f.read()\n",
        "\n",
        "punctuation = ['\\n', ',', '.', '?', '!', ':', '-']\n",
        "for p in punctuation:\n",
        "  text = text.replace(p, ' ')"
      ],
      "metadata": {
        "id": "mfSHxO57vi1A"
      },
      "execution_count": 156,
      "outputs": []
    },
    {
      "cell_type": "code",
      "source": [
        "segmentize_phoneme('ŋaj', '˨˩')"
      ],
      "metadata": {
        "colab": {
          "base_uri": "https://localhost:8080/"
        },
        "id": "4OcyltJy6YW5",
        "outputId": "2b930489-c836-4d3b-b229-fa3cb31ff63f"
      },
      "execution_count": 157,
      "outputs": [
        {
          "output_type": "execute_result",
          "data": {
            "text/plain": [
              "['ŋ', 'a˨˩', 'j']"
            ]
          },
          "metadata": {},
          "execution_count": 157
        }
      ]
    },
    {
      "cell_type": "code",
      "source": [
        "token_list = tokenizer(text)\n",
        "phoneme_list = []\n",
        "for i in tqdm(range(len(token_list))):\n",
        "  token = token_list[i]\n",
        "  try:\n",
        "    IPA, tone = IPA_extractor_vi(token)\n",
        "    phoneme_list += segmentize_phoneme(IPA, tone)\n",
        "  except:\n",
        "    try:\n",
        "      IPA = IPA_extractor_en(token)\n",
        "      phoneme_list += segmentize_phoneme(IPA, find_tone(IPA))\n",
        "    except:\n",
        "      print(token)"
      ],
      "metadata": {
        "id": "fLPJyIQZvmQt",
        "colab": {
          "base_uri": "https://localhost:8080/",
          "height": 49,
          "referenced_widgets": [
            "889a78a4b78e4bd6aaa07a5ab2b9425c",
            "282f1c03aa9b49f4a9ba93a91e6216f5",
            "15ca538754b64e899eaf663d2abe5a1e",
            "ea6f7ba47f2548a2b6fc1e8f49120208",
            "de9de855b1624241bc095e9ab72a0a61",
            "02727ee017ce4534bb2931af59e981b4",
            "f18ce19e01224b7eb1db0040e1ee8b37",
            "e9391b48910e4c519aa599a51cccacb6",
            "3894d22e7c964b8eb5a90ff9d85a0044",
            "8bd5bd71d904401cb111ec6c0eb07baa",
            "4a59c473957a4d5eb05aed688ef8788e"
          ]
        },
        "outputId": "43aad4d5-28e3-4c10-f16d-77d4994145a3"
      },
      "execution_count": 165,
      "outputs": [
        {
          "output_type": "display_data",
          "data": {
            "text/plain": [
              "  0%|          | 0/219 [00:00<?, ?it/s]"
            ],
            "application/vnd.jupyter.widget-view+json": {
              "version_major": 2,
              "version_minor": 0,
              "model_id": "889a78a4b78e4bd6aaa07a5ab2b9425c"
            }
          },
          "metadata": {}
        }
      ]
    },
    {
      "cell_type": "code",
      "source": [
        "# count occurence of each phoneme in the story\n",
        "occurence = []\n",
        "for phoneme in phoneme_db.phoneme:\n",
        "  occurence.append(phoneme_list.count(phoneme))\n",
        "\n",
        "phoneme_db['occurence'] = occurence"
      ],
      "metadata": {
        "id": "G6ecMEGcpFiL"
      },
      "execution_count": 168,
      "outputs": []
    },
    {
      "cell_type": "code",
      "source": [
        "phoneme_db[phoneme_db.occurence == 0]"
      ],
      "metadata": {
        "colab": {
          "base_uri": "https://localhost:8080/",
          "height": 457
        },
        "id": "WDLlIZMkriI1",
        "outputId": "30d035cc-b465-4aec-ec79-6c80b2fb41bd"
      },
      "execution_count": 169,
      "outputs": [
        {
          "output_type": "execute_result",
          "data": {
            "text/plain": [
              "                  note phoneme  \\\n",
              "13  Initial consonants       p   \n",
              "18  Initial consonants     t͡ɕ   \n",
              "19  Initial consonants       ʈ   \n",
              "21  Initial consonants       r   \n",
              "22        Medial glide       ʷ   \n",
              "27    Final consonants      ŋm   \n",
              "28    Final consonants      p̚   \n",
              "31    Final consonants      kp   \n",
              "33              Vowels       ɐ   \n",
              "35              Vowels       e   \n",
              "39              Vowels       i   \n",
              "43              Vowels       u   \n",
              "44          Diphthongs      iə   \n",
              "\n",
              "                                             examples  num_char  occurence  \n",
              "13                                                pin         1          0  \n",
              "18                                                chè         3          0  \n",
              "19                                                tra         1          0  \n",
              "21                                            ra, rồi         1          0  \n",
              "22                            oanh; quốc; Nguyễn, tuy         1          0  \n",
              "27  bốn [9], bún (after u, ô), chúng (after u, ô, ...         2          0  \n",
              "28                                               tiếp         2          0  \n",
              "31          một (after u, ô), học (after u, ô, o)[10]         2          0  \n",
              "33                                                 ăn         1          0  \n",
              "35                                                 về         1          0  \n",
              "39                                        khi; tuy[4]         1          0  \n",
              "43                                                 ru         1          0  \n",
              "44                                          viên, bia         2          0  "
            ],
            "text/html": [
              "\n",
              "  <div id=\"df-40adc991-8faa-4523-9866-467e08a0e6f3\">\n",
              "    <div class=\"colab-df-container\">\n",
              "      <div>\n",
              "<style scoped>\n",
              "    .dataframe tbody tr th:only-of-type {\n",
              "        vertical-align: middle;\n",
              "    }\n",
              "\n",
              "    .dataframe tbody tr th {\n",
              "        vertical-align: top;\n",
              "    }\n",
              "\n",
              "    .dataframe thead th {\n",
              "        text-align: right;\n",
              "    }\n",
              "</style>\n",
              "<table border=\"1\" class=\"dataframe\">\n",
              "  <thead>\n",
              "    <tr style=\"text-align: right;\">\n",
              "      <th></th>\n",
              "      <th>note</th>\n",
              "      <th>phoneme</th>\n",
              "      <th>examples</th>\n",
              "      <th>num_char</th>\n",
              "      <th>occurence</th>\n",
              "    </tr>\n",
              "  </thead>\n",
              "  <tbody>\n",
              "    <tr>\n",
              "      <th>13</th>\n",
              "      <td>Initial consonants</td>\n",
              "      <td>p</td>\n",
              "      <td>pin</td>\n",
              "      <td>1</td>\n",
              "      <td>0</td>\n",
              "    </tr>\n",
              "    <tr>\n",
              "      <th>18</th>\n",
              "      <td>Initial consonants</td>\n",
              "      <td>t͡ɕ</td>\n",
              "      <td>chè</td>\n",
              "      <td>3</td>\n",
              "      <td>0</td>\n",
              "    </tr>\n",
              "    <tr>\n",
              "      <th>19</th>\n",
              "      <td>Initial consonants</td>\n",
              "      <td>ʈ</td>\n",
              "      <td>tra</td>\n",
              "      <td>1</td>\n",
              "      <td>0</td>\n",
              "    </tr>\n",
              "    <tr>\n",
              "      <th>21</th>\n",
              "      <td>Initial consonants</td>\n",
              "      <td>r</td>\n",
              "      <td>ra, rồi</td>\n",
              "      <td>1</td>\n",
              "      <td>0</td>\n",
              "    </tr>\n",
              "    <tr>\n",
              "      <th>22</th>\n",
              "      <td>Medial glide</td>\n",
              "      <td>ʷ</td>\n",
              "      <td>oanh; quốc; Nguyễn, tuy</td>\n",
              "      <td>1</td>\n",
              "      <td>0</td>\n",
              "    </tr>\n",
              "    <tr>\n",
              "      <th>27</th>\n",
              "      <td>Final consonants</td>\n",
              "      <td>ŋm</td>\n",
              "      <td>bốn [9], bún (after u, ô), chúng (after u, ô, ...</td>\n",
              "      <td>2</td>\n",
              "      <td>0</td>\n",
              "    </tr>\n",
              "    <tr>\n",
              "      <th>28</th>\n",
              "      <td>Final consonants</td>\n",
              "      <td>p̚</td>\n",
              "      <td>tiếp</td>\n",
              "      <td>2</td>\n",
              "      <td>0</td>\n",
              "    </tr>\n",
              "    <tr>\n",
              "      <th>31</th>\n",
              "      <td>Final consonants</td>\n",
              "      <td>kp</td>\n",
              "      <td>một (after u, ô), học (after u, ô, o)[10]</td>\n",
              "      <td>2</td>\n",
              "      <td>0</td>\n",
              "    </tr>\n",
              "    <tr>\n",
              "      <th>33</th>\n",
              "      <td>Vowels</td>\n",
              "      <td>ɐ</td>\n",
              "      <td>ăn</td>\n",
              "      <td>1</td>\n",
              "      <td>0</td>\n",
              "    </tr>\n",
              "    <tr>\n",
              "      <th>35</th>\n",
              "      <td>Vowels</td>\n",
              "      <td>e</td>\n",
              "      <td>về</td>\n",
              "      <td>1</td>\n",
              "      <td>0</td>\n",
              "    </tr>\n",
              "    <tr>\n",
              "      <th>39</th>\n",
              "      <td>Vowels</td>\n",
              "      <td>i</td>\n",
              "      <td>khi; tuy[4]</td>\n",
              "      <td>1</td>\n",
              "      <td>0</td>\n",
              "    </tr>\n",
              "    <tr>\n",
              "      <th>43</th>\n",
              "      <td>Vowels</td>\n",
              "      <td>u</td>\n",
              "      <td>ru</td>\n",
              "      <td>1</td>\n",
              "      <td>0</td>\n",
              "    </tr>\n",
              "    <tr>\n",
              "      <th>44</th>\n",
              "      <td>Diphthongs</td>\n",
              "      <td>iə</td>\n",
              "      <td>viên, bia</td>\n",
              "      <td>2</td>\n",
              "      <td>0</td>\n",
              "    </tr>\n",
              "  </tbody>\n",
              "</table>\n",
              "</div>\n",
              "      <button class=\"colab-df-convert\" onclick=\"convertToInteractive('df-40adc991-8faa-4523-9866-467e08a0e6f3')\"\n",
              "              title=\"Convert this dataframe to an interactive table.\"\n",
              "              style=\"display:none;\">\n",
              "        \n",
              "  <svg xmlns=\"http://www.w3.org/2000/svg\" height=\"24px\"viewBox=\"0 0 24 24\"\n",
              "       width=\"24px\">\n",
              "    <path d=\"M0 0h24v24H0V0z\" fill=\"none\"/>\n",
              "    <path d=\"M18.56 5.44l.94 2.06.94-2.06 2.06-.94-2.06-.94-.94-2.06-.94 2.06-2.06.94zm-11 1L8.5 8.5l.94-2.06 2.06-.94-2.06-.94L8.5 2.5l-.94 2.06-2.06.94zm10 10l.94 2.06.94-2.06 2.06-.94-2.06-.94-.94-2.06-.94 2.06-2.06.94z\"/><path d=\"M17.41 7.96l-1.37-1.37c-.4-.4-.92-.59-1.43-.59-.52 0-1.04.2-1.43.59L10.3 9.45l-7.72 7.72c-.78.78-.78 2.05 0 2.83L4 21.41c.39.39.9.59 1.41.59.51 0 1.02-.2 1.41-.59l7.78-7.78 2.81-2.81c.8-.78.8-2.07 0-2.86zM5.41 20L4 18.59l7.72-7.72 1.47 1.35L5.41 20z\"/>\n",
              "  </svg>\n",
              "      </button>\n",
              "      \n",
              "  <style>\n",
              "    .colab-df-container {\n",
              "      display:flex;\n",
              "      flex-wrap:wrap;\n",
              "      gap: 12px;\n",
              "    }\n",
              "\n",
              "    .colab-df-convert {\n",
              "      background-color: #E8F0FE;\n",
              "      border: none;\n",
              "      border-radius: 50%;\n",
              "      cursor: pointer;\n",
              "      display: none;\n",
              "      fill: #1967D2;\n",
              "      height: 32px;\n",
              "      padding: 0 0 0 0;\n",
              "      width: 32px;\n",
              "    }\n",
              "\n",
              "    .colab-df-convert:hover {\n",
              "      background-color: #E2EBFA;\n",
              "      box-shadow: 0px 1px 2px rgba(60, 64, 67, 0.3), 0px 1px 3px 1px rgba(60, 64, 67, 0.15);\n",
              "      fill: #174EA6;\n",
              "    }\n",
              "\n",
              "    [theme=dark] .colab-df-convert {\n",
              "      background-color: #3B4455;\n",
              "      fill: #D2E3FC;\n",
              "    }\n",
              "\n",
              "    [theme=dark] .colab-df-convert:hover {\n",
              "      background-color: #434B5C;\n",
              "      box-shadow: 0px 1px 3px 1px rgba(0, 0, 0, 0.15);\n",
              "      filter: drop-shadow(0px 1px 2px rgba(0, 0, 0, 0.3));\n",
              "      fill: #FFFFFF;\n",
              "    }\n",
              "  </style>\n",
              "\n",
              "      <script>\n",
              "        const buttonEl =\n",
              "          document.querySelector('#df-40adc991-8faa-4523-9866-467e08a0e6f3 button.colab-df-convert');\n",
              "        buttonEl.style.display =\n",
              "          google.colab.kernel.accessAllowed ? 'block' : 'none';\n",
              "\n",
              "        async function convertToInteractive(key) {\n",
              "          const element = document.querySelector('#df-40adc991-8faa-4523-9866-467e08a0e6f3');\n",
              "          const dataTable =\n",
              "            await google.colab.kernel.invokeFunction('convertToInteractive',\n",
              "                                                     [key], {});\n",
              "          if (!dataTable) return;\n",
              "\n",
              "          const docLinkHtml = 'Like what you see? Visit the ' +\n",
              "            '<a target=\"_blank\" href=https://colab.research.google.com/notebooks/data_table.ipynb>data table notebook</a>'\n",
              "            + ' to learn more about interactive tables.';\n",
              "          element.innerHTML = '';\n",
              "          dataTable['output_type'] = 'display_data';\n",
              "          await google.colab.output.renderOutput(dataTable, element);\n",
              "          const docLink = document.createElement('div');\n",
              "          docLink.innerHTML = docLinkHtml;\n",
              "          element.appendChild(docLink);\n",
              "        }\n",
              "      </script>\n",
              "    </div>\n",
              "  </div>\n",
              "  "
            ]
          },
          "metadata": {},
          "execution_count": 169
        }
      ]
    },
    {
      "cell_type": "code",
      "source": [
        ""
      ],
      "metadata": {
        "id": "SAg9uVuhrkTy"
      },
      "execution_count": 161,
      "outputs": []
    }
  ]
}