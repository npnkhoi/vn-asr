{
  "nbformat": 4,
  "nbformat_minor": 0,
  "metadata": {
    "colab": {
      "name": "wikitionary-IPA-extract.ipynb",
      "provenance": [],
      "collapsed_sections": [],
      "authorship_tag": "ABX9TyPrMazR9pjPqrBgozrPgSNm",
      "include_colab_link": true
    },
    "kernelspec": {
      "name": "python3",
      "display_name": "Python 3"
    },
    "language_info": {
      "name": "python"
    },
    "widgets": {
      "application/vnd.jupyter.widget-state+json": {
        "f1643bda02a04c0a93567ca6e54ab1e3": {
          "model_module": "@jupyter-widgets/controls",
          "model_name": "HBoxModel",
          "model_module_version": "1.5.0",
          "state": {
            "_dom_classes": [],
            "_model_module": "@jupyter-widgets/controls",
            "_model_module_version": "1.5.0",
            "_model_name": "HBoxModel",
            "_view_count": null,
            "_view_module": "@jupyter-widgets/controls",
            "_view_module_version": "1.5.0",
            "_view_name": "HBoxView",
            "box_style": "",
            "children": [
              "IPY_MODEL_7493459c6ba245ec86e547a74d27de8b",
              "IPY_MODEL_9e6a066c0eb64933aa8f67b39ae505fe",
              "IPY_MODEL_b704c000fd114173bc589fcc478f153c"
            ],
            "layout": "IPY_MODEL_d636912888184a1ea71a23ad8e9ca949"
          }
        },
        "7493459c6ba245ec86e547a74d27de8b": {
          "model_module": "@jupyter-widgets/controls",
          "model_name": "HTMLModel",
          "model_module_version": "1.5.0",
          "state": {
            "_dom_classes": [],
            "_model_module": "@jupyter-widgets/controls",
            "_model_module_version": "1.5.0",
            "_model_name": "HTMLModel",
            "_view_count": null,
            "_view_module": "@jupyter-widgets/controls",
            "_view_module_version": "1.5.0",
            "_view_name": "HTMLView",
            "description": "",
            "description_tooltip": null,
            "layout": "IPY_MODEL_04db6f3b0c374f9e895b04b0de398d9e",
            "placeholder": "​",
            "style": "IPY_MODEL_e911bddaec264a87bec3df6f8f572824",
            "value": "100%"
          }
        },
        "9e6a066c0eb64933aa8f67b39ae505fe": {
          "model_module": "@jupyter-widgets/controls",
          "model_name": "FloatProgressModel",
          "model_module_version": "1.5.0",
          "state": {
            "_dom_classes": [],
            "_model_module": "@jupyter-widgets/controls",
            "_model_module_version": "1.5.0",
            "_model_name": "FloatProgressModel",
            "_view_count": null,
            "_view_module": "@jupyter-widgets/controls",
            "_view_module_version": "1.5.0",
            "_view_name": "ProgressView",
            "bar_style": "success",
            "description": "",
            "description_tooltip": null,
            "layout": "IPY_MODEL_6b1d223d5bbf46ac8bef9219edf7c4b0",
            "max": 599,
            "min": 0,
            "orientation": "horizontal",
            "style": "IPY_MODEL_63c28d8ff88c4e65b84824d5e42dd1bc",
            "value": 599
          }
        },
        "b704c000fd114173bc589fcc478f153c": {
          "model_module": "@jupyter-widgets/controls",
          "model_name": "HTMLModel",
          "model_module_version": "1.5.0",
          "state": {
            "_dom_classes": [],
            "_model_module": "@jupyter-widgets/controls",
            "_model_module_version": "1.5.0",
            "_model_name": "HTMLModel",
            "_view_count": null,
            "_view_module": "@jupyter-widgets/controls",
            "_view_module_version": "1.5.0",
            "_view_name": "HTMLView",
            "description": "",
            "description_tooltip": null,
            "layout": "IPY_MODEL_92ca859b560048d6b62dcc9fd6b0bc0f",
            "placeholder": "​",
            "style": "IPY_MODEL_c9fc3d54f10f4bb5b031a5a356f92222",
            "value": " 599/599 [02:10&lt;00:00,  3.75it/s]"
          }
        },
        "d636912888184a1ea71a23ad8e9ca949": {
          "model_module": "@jupyter-widgets/base",
          "model_name": "LayoutModel",
          "model_module_version": "1.2.0",
          "state": {
            "_model_module": "@jupyter-widgets/base",
            "_model_module_version": "1.2.0",
            "_model_name": "LayoutModel",
            "_view_count": null,
            "_view_module": "@jupyter-widgets/base",
            "_view_module_version": "1.2.0",
            "_view_name": "LayoutView",
            "align_content": null,
            "align_items": null,
            "align_self": null,
            "border": null,
            "bottom": null,
            "display": null,
            "flex": null,
            "flex_flow": null,
            "grid_area": null,
            "grid_auto_columns": null,
            "grid_auto_flow": null,
            "grid_auto_rows": null,
            "grid_column": null,
            "grid_gap": null,
            "grid_row": null,
            "grid_template_areas": null,
            "grid_template_columns": null,
            "grid_template_rows": null,
            "height": null,
            "justify_content": null,
            "justify_items": null,
            "left": null,
            "margin": null,
            "max_height": null,
            "max_width": null,
            "min_height": null,
            "min_width": null,
            "object_fit": null,
            "object_position": null,
            "order": null,
            "overflow": null,
            "overflow_x": null,
            "overflow_y": null,
            "padding": null,
            "right": null,
            "top": null,
            "visibility": null,
            "width": null
          }
        },
        "04db6f3b0c374f9e895b04b0de398d9e": {
          "model_module": "@jupyter-widgets/base",
          "model_name": "LayoutModel",
          "model_module_version": "1.2.0",
          "state": {
            "_model_module": "@jupyter-widgets/base",
            "_model_module_version": "1.2.0",
            "_model_name": "LayoutModel",
            "_view_count": null,
            "_view_module": "@jupyter-widgets/base",
            "_view_module_version": "1.2.0",
            "_view_name": "LayoutView",
            "align_content": null,
            "align_items": null,
            "align_self": null,
            "border": null,
            "bottom": null,
            "display": null,
            "flex": null,
            "flex_flow": null,
            "grid_area": null,
            "grid_auto_columns": null,
            "grid_auto_flow": null,
            "grid_auto_rows": null,
            "grid_column": null,
            "grid_gap": null,
            "grid_row": null,
            "grid_template_areas": null,
            "grid_template_columns": null,
            "grid_template_rows": null,
            "height": null,
            "justify_content": null,
            "justify_items": null,
            "left": null,
            "margin": null,
            "max_height": null,
            "max_width": null,
            "min_height": null,
            "min_width": null,
            "object_fit": null,
            "object_position": null,
            "order": null,
            "overflow": null,
            "overflow_x": null,
            "overflow_y": null,
            "padding": null,
            "right": null,
            "top": null,
            "visibility": null,
            "width": null
          }
        },
        "e911bddaec264a87bec3df6f8f572824": {
          "model_module": "@jupyter-widgets/controls",
          "model_name": "DescriptionStyleModel",
          "model_module_version": "1.5.0",
          "state": {
            "_model_module": "@jupyter-widgets/controls",
            "_model_module_version": "1.5.0",
            "_model_name": "DescriptionStyleModel",
            "_view_count": null,
            "_view_module": "@jupyter-widgets/base",
            "_view_module_version": "1.2.0",
            "_view_name": "StyleView",
            "description_width": ""
          }
        },
        "6b1d223d5bbf46ac8bef9219edf7c4b0": {
          "model_module": "@jupyter-widgets/base",
          "model_name": "LayoutModel",
          "model_module_version": "1.2.0",
          "state": {
            "_model_module": "@jupyter-widgets/base",
            "_model_module_version": "1.2.0",
            "_model_name": "LayoutModel",
            "_view_count": null,
            "_view_module": "@jupyter-widgets/base",
            "_view_module_version": "1.2.0",
            "_view_name": "LayoutView",
            "align_content": null,
            "align_items": null,
            "align_self": null,
            "border": null,
            "bottom": null,
            "display": null,
            "flex": null,
            "flex_flow": null,
            "grid_area": null,
            "grid_auto_columns": null,
            "grid_auto_flow": null,
            "grid_auto_rows": null,
            "grid_column": null,
            "grid_gap": null,
            "grid_row": null,
            "grid_template_areas": null,
            "grid_template_columns": null,
            "grid_template_rows": null,
            "height": null,
            "justify_content": null,
            "justify_items": null,
            "left": null,
            "margin": null,
            "max_height": null,
            "max_width": null,
            "min_height": null,
            "min_width": null,
            "object_fit": null,
            "object_position": null,
            "order": null,
            "overflow": null,
            "overflow_x": null,
            "overflow_y": null,
            "padding": null,
            "right": null,
            "top": null,
            "visibility": null,
            "width": null
          }
        },
        "63c28d8ff88c4e65b84824d5e42dd1bc": {
          "model_module": "@jupyter-widgets/controls",
          "model_name": "ProgressStyleModel",
          "model_module_version": "1.5.0",
          "state": {
            "_model_module": "@jupyter-widgets/controls",
            "_model_module_version": "1.5.0",
            "_model_name": "ProgressStyleModel",
            "_view_count": null,
            "_view_module": "@jupyter-widgets/base",
            "_view_module_version": "1.2.0",
            "_view_name": "StyleView",
            "bar_color": null,
            "description_width": ""
          }
        },
        "92ca859b560048d6b62dcc9fd6b0bc0f": {
          "model_module": "@jupyter-widgets/base",
          "model_name": "LayoutModel",
          "model_module_version": "1.2.0",
          "state": {
            "_model_module": "@jupyter-widgets/base",
            "_model_module_version": "1.2.0",
            "_model_name": "LayoutModel",
            "_view_count": null,
            "_view_module": "@jupyter-widgets/base",
            "_view_module_version": "1.2.0",
            "_view_name": "LayoutView",
            "align_content": null,
            "align_items": null,
            "align_self": null,
            "border": null,
            "bottom": null,
            "display": null,
            "flex": null,
            "flex_flow": null,
            "grid_area": null,
            "grid_auto_columns": null,
            "grid_auto_flow": null,
            "grid_auto_rows": null,
            "grid_column": null,
            "grid_gap": null,
            "grid_row": null,
            "grid_template_areas": null,
            "grid_template_columns": null,
            "grid_template_rows": null,
            "height": null,
            "justify_content": null,
            "justify_items": null,
            "left": null,
            "margin": null,
            "max_height": null,
            "max_width": null,
            "min_height": null,
            "min_width": null,
            "object_fit": null,
            "object_position": null,
            "order": null,
            "overflow": null,
            "overflow_x": null,
            "overflow_y": null,
            "padding": null,
            "right": null,
            "top": null,
            "visibility": null,
            "width": null
          }
        },
        "c9fc3d54f10f4bb5b031a5a356f92222": {
          "model_module": "@jupyter-widgets/controls",
          "model_name": "DescriptionStyleModel",
          "model_module_version": "1.5.0",
          "state": {
            "_model_module": "@jupyter-widgets/controls",
            "_model_module_version": "1.5.0",
            "_model_name": "DescriptionStyleModel",
            "_view_count": null,
            "_view_module": "@jupyter-widgets/base",
            "_view_module_version": "1.2.0",
            "_view_name": "StyleView",
            "description_width": ""
          }
        }
      }
    }
  },
  "cells": [
    {
      "cell_type": "markdown",
      "metadata": {
        "id": "view-in-github",
        "colab_type": "text"
      },
      "source": [
        "<a href=\"https://colab.research.google.com/github/npnkhoi/vn-asr/blob/master/wikitionary_IPA_extract.ipynb\" target=\"_parent\"><img src=\"https://colab.research.google.com/assets/colab-badge.svg\" alt=\"Open In Colab\"/></a>"
      ]
    },
    {
      "cell_type": "markdown",
      "source": [
        "https://cotich.net/truyen-co-tich-tam-cam-a350.html\n"
      ],
      "metadata": {
        "id": "gPhevXk8B7ZK"
      }
    },
    {
      "cell_type": "code",
      "execution_count": 1,
      "metadata": {
        "id": "Ig_EA9SXBywp"
      },
      "outputs": [],
      "source": [
        "import requests\n",
        "from bs4 import BeautifulSoup\n",
        "from time import sleep\n",
        "from tqdm.notebook import tqdm # print progress bar\n",
        "import pandas as pd"
      ]
    },
    {
      "cell_type": "code",
      "source": [
        "def extract_IPA_from_html_vi(s):\n",
        "  return s[s.find('>')+1: s.find('<',1)]\n",
        "\n",
        "def extract_IPA_from_html_en(s):\n",
        "  return s[s.find('[')+1: s.find(']')]"
      ],
      "metadata": {
        "id": "hnzItfCQOmN_"
      },
      "execution_count": 2,
      "outputs": []
    },
    {
      "cell_type": "code",
      "source": [
        "def tokenizer(string):\n",
        "  string = string.lower()\n",
        "  token_list = string.split()\n",
        "  return token_list"
      ],
      "metadata": {
        "id": "l9-Qp89QwCKE"
      },
      "execution_count": 3,
      "outputs": []
    },
    {
      "cell_type": "code",
      "source": [
        "def IPA_extractor_vi(token):\n",
        "  # page = requests.get(f\"https://en.wiktionary.org/wiki/{token}\")\n",
        "  page = requests.get(f\"https://vi.wiktionary.org/wiki/{token}#Tiếng_Việt\")\n",
        "  \n",
        "  soup = BeautifulSoup(page.content, 'html.parser')\n",
        "  SG_IPA = soup.find_all(class_='wiktvi-vie-pron-sg')\n",
        "  if len(SG_IPA) > 0:\n",
        "    IPA = SG_IPA[0].find_all(class_='IPA')[0]\n",
        "    IPA_tone = SG_IPA[0].find_all(class_='IPA')[0].find_all(class_='IPA-tone')[0]\n",
        "    return extract_IPA_from_html_vi(str(IPA)), extract_IPA_from_html_vi(str(IPA_tone))\n",
        "  else:\n",
        "    return None\n",
        "\n",
        "def IPA_extractor_en(token):\n",
        "  page = requests.get(f\"https://en.wiktionary.org/wiki/{token}\")\n",
        "  soup = BeautifulSoup(page.content, 'html.parser')\n",
        "  IPA = soup.find_all(class_='IPA')\n",
        "  try:\n",
        "    return extract_IPA_from_html_en(str(IPA[2]))\n",
        "  except:\n",
        "    return token"
      ],
      "metadata": {
        "id": "WLqcPDYLKXTl"
      },
      "execution_count": 4,
      "outputs": []
    },
    {
      "cell_type": "code",
      "source": [
        "s = \"Theo dự thảo phòng chống Covid-19 với người nhập cảnh đang được lấy ý kiến\"\n",
        "token_list = tokenizer(s)\n",
        "for i in range(len(token_list)):\n",
        "  print(IPA_extractor_en(token_list[i]))"
      ],
      "metadata": {
        "colab": {
          "base_uri": "https://localhost:8080/"
        },
        "id": "0_fkur_6eZQP",
        "outputId": "90b34268-27c6-40c9-ad37-09d261a72535"
      },
      "execution_count": 5,
      "outputs": [
        {
          "output_type": "stream",
          "name": "stdout",
          "text": [
            "tʰɛw˧˧\n",
            "jɨ˨˩˨\n",
            "tʰaːw˨˩˦\n",
            "fawŋ͡m˨˩\n",
            "cəwŋ͡m˦˥\n",
            "covid-19\n",
            "vəːj˦˥\n",
            "ŋɨj˨˩\n",
            "ɲəp̚˨˩˨\n",
            "kan˨˩˦\n",
            "ʔɗaːŋ˧˧\n",
            "ʔɗɨək̚˨˩˨\n",
            "ləj˦˥\n",
            "<span class=\"IPA\">/iː/</span\n",
            "kiəŋ˦˥\n"
          ]
        }
      ]
    },
    {
      "cell_type": "code",
      "source": [
        "wikitionary_IPA_tone_list = {\n",
        "    'ngang': '˧˧', \n",
        "    'sắc': '˦˥',\n",
        "    'huyền': '˨˩',\n",
        "    'hỏi': '˨˩˦', \n",
        "    'ngã': '˨˩˦',\n",
        "    'nặng': '˨˩˨'\n",
        "}\n",
        "\n",
        "wikipedia_IPA_tone_list = {\n",
        "    'ngang': '˧', \n",
        "    'sắc': '˧˥',\n",
        "    'huyền': '˨˩',\n",
        "    'hỏi': '˧˩˧', \n",
        "    'ngã': '˨˩˦',\n",
        "    'nặng': '˨˧'\n",
        "}"
      ],
      "metadata": {
        "id": "ETHwjK_0PD2C"
      },
      "execution_count": 6,
      "outputs": []
    },
    {
      "cell_type": "code",
      "source": [
        "phoneme_db = pd.read_csv('https://raw.githubusercontent.com/npnkhoi/vn-asr/master/vn_phonemes.csv')"
      ],
      "metadata": {
        "id": "oTYEzR0Ct5RH"
      },
      "execution_count": 32,
      "outputs": []
    },
    {
      "cell_type": "code",
      "source": [
        "# clean db\n",
        "phoneme_db['num_char'] = phoneme_db.phoneme.str.len()"
      ],
      "metadata": {
        "id": "IcaM-YSflqYI"
      },
      "execution_count": 33,
      "outputs": []
    },
    {
      "cell_type": "code",
      "source": [
        "phoneme_db.sample(5)"
      ],
      "metadata": {
        "colab": {
          "base_uri": "https://localhost:8080/",
          "height": 206
        },
        "id": "KnzV6U_-uTmf",
        "outputId": "39032cc4-34a9-4dc8-9679-019b3988db91"
      },
      "execution_count": 34,
      "outputs": [
        {
          "output_type": "execute_result",
          "data": {
            "text/plain": [
              "                  note phoneme examples note.1  num_char\n",
              "50          Diphthongs      əj       ây    NaN         2\n",
              "38              Vowels       ɛ        e    NaN         1\n",
              "44              Vowels       o        ô    NaN         1\n",
              "57          Diphthongs      wɛ       oe    NaN         2\n",
              "5   Initial consonants       h     hàng    NaN         1"
            ],
            "text/html": [
              "\n",
              "  <div id=\"df-3ee87222-3d18-4124-9b4b-f9bd31b57497\">\n",
              "    <div class=\"colab-df-container\">\n",
              "      <div>\n",
              "<style scoped>\n",
              "    .dataframe tbody tr th:only-of-type {\n",
              "        vertical-align: middle;\n",
              "    }\n",
              "\n",
              "    .dataframe tbody tr th {\n",
              "        vertical-align: top;\n",
              "    }\n",
              "\n",
              "    .dataframe thead th {\n",
              "        text-align: right;\n",
              "    }\n",
              "</style>\n",
              "<table border=\"1\" class=\"dataframe\">\n",
              "  <thead>\n",
              "    <tr style=\"text-align: right;\">\n",
              "      <th></th>\n",
              "      <th>note</th>\n",
              "      <th>phoneme</th>\n",
              "      <th>examples</th>\n",
              "      <th>note.1</th>\n",
              "      <th>num_char</th>\n",
              "    </tr>\n",
              "  </thead>\n",
              "  <tbody>\n",
              "    <tr>\n",
              "      <th>50</th>\n",
              "      <td>Diphthongs</td>\n",
              "      <td>əj</td>\n",
              "      <td>ây</td>\n",
              "      <td>NaN</td>\n",
              "      <td>2</td>\n",
              "    </tr>\n",
              "    <tr>\n",
              "      <th>38</th>\n",
              "      <td>Vowels</td>\n",
              "      <td>ɛ</td>\n",
              "      <td>e</td>\n",
              "      <td>NaN</td>\n",
              "      <td>1</td>\n",
              "    </tr>\n",
              "    <tr>\n",
              "      <th>44</th>\n",
              "      <td>Vowels</td>\n",
              "      <td>o</td>\n",
              "      <td>ô</td>\n",
              "      <td>NaN</td>\n",
              "      <td>1</td>\n",
              "    </tr>\n",
              "    <tr>\n",
              "      <th>57</th>\n",
              "      <td>Diphthongs</td>\n",
              "      <td>wɛ</td>\n",
              "      <td>oe</td>\n",
              "      <td>NaN</td>\n",
              "      <td>2</td>\n",
              "    </tr>\n",
              "    <tr>\n",
              "      <th>5</th>\n",
              "      <td>Initial consonants</td>\n",
              "      <td>h</td>\n",
              "      <td>hàng</td>\n",
              "      <td>NaN</td>\n",
              "      <td>1</td>\n",
              "    </tr>\n",
              "  </tbody>\n",
              "</table>\n",
              "</div>\n",
              "      <button class=\"colab-df-convert\" onclick=\"convertToInteractive('df-3ee87222-3d18-4124-9b4b-f9bd31b57497')\"\n",
              "              title=\"Convert this dataframe to an interactive table.\"\n",
              "              style=\"display:none;\">\n",
              "        \n",
              "  <svg xmlns=\"http://www.w3.org/2000/svg\" height=\"24px\"viewBox=\"0 0 24 24\"\n",
              "       width=\"24px\">\n",
              "    <path d=\"M0 0h24v24H0V0z\" fill=\"none\"/>\n",
              "    <path d=\"M18.56 5.44l.94 2.06.94-2.06 2.06-.94-2.06-.94-.94-2.06-.94 2.06-2.06.94zm-11 1L8.5 8.5l.94-2.06 2.06-.94-2.06-.94L8.5 2.5l-.94 2.06-2.06.94zm10 10l.94 2.06.94-2.06 2.06-.94-2.06-.94-.94-2.06-.94 2.06-2.06.94z\"/><path d=\"M17.41 7.96l-1.37-1.37c-.4-.4-.92-.59-1.43-.59-.52 0-1.04.2-1.43.59L10.3 9.45l-7.72 7.72c-.78.78-.78 2.05 0 2.83L4 21.41c.39.39.9.59 1.41.59.51 0 1.02-.2 1.41-.59l7.78-7.78 2.81-2.81c.8-.78.8-2.07 0-2.86zM5.41 20L4 18.59l7.72-7.72 1.47 1.35L5.41 20z\"/>\n",
              "  </svg>\n",
              "      </button>\n",
              "      \n",
              "  <style>\n",
              "    .colab-df-container {\n",
              "      display:flex;\n",
              "      flex-wrap:wrap;\n",
              "      gap: 12px;\n",
              "    }\n",
              "\n",
              "    .colab-df-convert {\n",
              "      background-color: #E8F0FE;\n",
              "      border: none;\n",
              "      border-radius: 50%;\n",
              "      cursor: pointer;\n",
              "      display: none;\n",
              "      fill: #1967D2;\n",
              "      height: 32px;\n",
              "      padding: 0 0 0 0;\n",
              "      width: 32px;\n",
              "    }\n",
              "\n",
              "    .colab-df-convert:hover {\n",
              "      background-color: #E2EBFA;\n",
              "      box-shadow: 0px 1px 2px rgba(60, 64, 67, 0.3), 0px 1px 3px 1px rgba(60, 64, 67, 0.15);\n",
              "      fill: #174EA6;\n",
              "    }\n",
              "\n",
              "    [theme=dark] .colab-df-convert {\n",
              "      background-color: #3B4455;\n",
              "      fill: #D2E3FC;\n",
              "    }\n",
              "\n",
              "    [theme=dark] .colab-df-convert:hover {\n",
              "      background-color: #434B5C;\n",
              "      box-shadow: 0px 1px 3px 1px rgba(0, 0, 0, 0.15);\n",
              "      filter: drop-shadow(0px 1px 2px rgba(0, 0, 0, 0.3));\n",
              "      fill: #FFFFFF;\n",
              "    }\n",
              "  </style>\n",
              "\n",
              "      <script>\n",
              "        const buttonEl =\n",
              "          document.querySelector('#df-3ee87222-3d18-4124-9b4b-f9bd31b57497 button.colab-df-convert');\n",
              "        buttonEl.style.display =\n",
              "          google.colab.kernel.accessAllowed ? 'block' : 'none';\n",
              "\n",
              "        async function convertToInteractive(key) {\n",
              "          const element = document.querySelector('#df-3ee87222-3d18-4124-9b4b-f9bd31b57497');\n",
              "          const dataTable =\n",
              "            await google.colab.kernel.invokeFunction('convertToInteractive',\n",
              "                                                     [key], {});\n",
              "          if (!dataTable) return;\n",
              "\n",
              "          const docLinkHtml = 'Like what you see? Visit the ' +\n",
              "            '<a target=\"_blank\" href=https://colab.research.google.com/notebooks/data_table.ipynb>data table notebook</a>'\n",
              "            + ' to learn more about interactive tables.';\n",
              "          element.innerHTML = '';\n",
              "          dataTable['output_type'] = 'display_data';\n",
              "          await google.colab.output.renderOutput(dataTable, element);\n",
              "          const docLink = document.createElement('div');\n",
              "          docLink.innerHTML = docLinkHtml;\n",
              "          element.appendChild(docLink);\n",
              "        }\n",
              "      </script>\n",
              "    </div>\n",
              "  </div>\n",
              "  "
            ]
          },
          "metadata": {},
          "execution_count": 34
        }
      ]
    },
    {
      "cell_type": "code",
      "source": [
        "def find_tone(IPA_string):\n",
        "  tone = ''\n",
        "  for t in wikitionary_IPA_tone_list.values():\n",
        "    if t in IPA_string:\n",
        "      tone = t\n",
        "      break\n",
        "  return tone"
      ],
      "metadata": {
        "id": "seA7Eruu3k23"
      },
      "execution_count": 11,
      "outputs": []
    },
    {
      "cell_type": "code",
      "source": [
        "def add_tone(vowel, tone):\n",
        "  if tone != wikitionary_IPA_tone_list['ngang']:\n",
        "    return vowel + tone\n",
        "  return vowel"
      ],
      "metadata": {
        "id": "veTnROfs2pzh"
      },
      "execution_count": 12,
      "outputs": []
    },
    {
      "cell_type": "code",
      "source": [
        "def segmentize_phoneme(IPA_string, tone):\n",
        "  phonemes = []\n",
        "  # segmentize initial consonant, prioritize more chars in the IPA first\n",
        "  for initial in phoneme_db[phoneme_db.note == 'Initial consonants'].sort_values(by=['num_char'], ascending=False).phoneme:\n",
        "    if initial == IPA_string[0:2]: # for initial that has 2 characters such as tʰ\n",
        "      phonemes.append(initial)\n",
        "      IPA_string = IPA_string[2:]\n",
        "      break\n",
        "    # elif f'?{initial}' == IPA_string[0:2]:\n",
        "    #   phonemes.append(f'?{initial}')\n",
        "    #   IPA_string = IPA_string[2:]\n",
        "    #   break\n",
        "    elif initial == IPA_string[0:1]: # for initial that has 1 character\n",
        "      phonemes.append(initial)\n",
        "      IPA_string = IPA_string[1:]\n",
        "      break\n",
        "\n",
        "  # segmentize triphthong\n",
        "  for triphthong in phoneme_db[phoneme_db.note == 'Triphthongs'].sort_values(by=['num_char'], ascending=False).phoneme:\n",
        "    if triphthong == IPA_string[:4]: # for triphthong that has 4 chars such as waːw\n",
        "      IPA_string = IPA_string[4:]\n",
        "      phonemes.append(add_tone(triphthong, tone))\n",
        "      break\n",
        "    \n",
        "    elif triphthong == IPA_string[:3]: # for triphthong that has 3 chars such as wɛw\n",
        "      IPA_string = IPA_string[3:]\n",
        "      phonemes.append(add_tone(triphthong, tone))\n",
        "      break\n",
        "\n",
        "  # segmentize diphthong\n",
        "  for diphthong in phoneme_db[phoneme_db.note == 'Diphthongs'].sort_values(by=['num_char'], ascending=False).phoneme:\n",
        "    if diphthong == IPA_string[:3]: # for diphthong that has 3 chars such as aːj\n",
        "      IPA_string = IPA_string[3:]\n",
        "      phonemes.append(add_tone(diphthong, tone))\n",
        "      break\n",
        "\n",
        "    if diphthong == IPA_string[:2]: # for diphthong that has 2 chars such as ɛw\n",
        "      IPA_string = IPA_string[2:]\n",
        "      phonemes.append(add_tone(diphthong, tone))\n",
        "      break\n",
        "\n",
        "  # segmentize vowel\n",
        "  for vowel in phoneme_db[phoneme_db.note == 'Vowels'].sort_values(by=['num_char'], ascending=False).phoneme:\n",
        "    if vowel == IPA_string[0:2]:\n",
        "      IPA_string = IPA_string[2:]\n",
        "      phonemes.append(add_tone(vowel, tone))\n",
        "      break\n",
        "    elif vowel == IPA_string[0:1]:\n",
        "      IPA_string = IPA_string[1:]\n",
        "      phonemes.append(add_tone(vowel, tone))\n",
        "      break\n",
        "  \n",
        "  # segmentize final consonant\n",
        "  for final in phoneme_db[phoneme_db.note == 'Final consonants'].phoneme:\n",
        "    if final == IPA_string[0:2]:\n",
        "      phonemes.append(final)\n",
        "      IPA_string = IPA_string[2:]\n",
        "      break\n",
        "    elif final == IPA_string[0:1]:\n",
        "      phonemes.append(final)\n",
        "      IPA_string = IPA_string[1:]\n",
        "      break\n",
        "  \n",
        "  sleep(0.1)\n",
        "\n",
        "  return phonemes"
      ],
      "metadata": {
        "id": "HeO1kf6UrtIF"
      },
      "execution_count": 36,
      "outputs": []
    },
    {
      "cell_type": "code",
      "source": [
        "story_url = 'https://raw.githubusercontent.com/npnkhoi/vn-asr/master/story.txt'\n",
        "page = requests.get(story_url)\n",
        "\n",
        "text = page.text\n",
        "\n",
        "punctuation = ['\\n', ',', '.', '?', '!', ':', '-']\n",
        "for p in punctuation:\n",
        "  text = text.replace(p, ' ')"
      ],
      "metadata": {
        "id": "mfSHxO57vi1A"
      },
      "execution_count": 42,
      "outputs": []
    },
    {
      "cell_type": "code",
      "source": [
        "token_list = tokenizer(text)\n",
        "phoneme_list = []\n",
        "for i in tqdm(range(len(token_list[:-1]))):\n",
        "  token = token_list[i]\n",
        "  try:\n",
        "    IPA, tone = IPA_extractor_vi(token)\n",
        "    phoneme_list += segmentize_phoneme(IPA, tone)\n",
        "    # print('vi', token, segmentize_phoneme(IPA, tone))\n",
        "  except:\n",
        "    try:\n",
        "      IPA = IPA_extractor_en(token)\n",
        "      phoneme_list += segmentize_phoneme(IPA, find_tone(IPA))\n",
        "      # print('en', token, segmentize_phoneme(IPA, find_tone(IPA)))\n",
        "\n",
        "    except:\n",
        "      print(token)"
      ],
      "metadata": {
        "id": "fLPJyIQZvmQt",
        "colab": {
          "base_uri": "https://localhost:8080/",
          "height": 49,
          "referenced_widgets": [
            "f1643bda02a04c0a93567ca6e54ab1e3",
            "7493459c6ba245ec86e547a74d27de8b",
            "9e6a066c0eb64933aa8f67b39ae505fe",
            "b704c000fd114173bc589fcc478f153c",
            "d636912888184a1ea71a23ad8e9ca949",
            "04db6f3b0c374f9e895b04b0de398d9e",
            "e911bddaec264a87bec3df6f8f572824",
            "6b1d223d5bbf46ac8bef9219edf7c4b0",
            "63c28d8ff88c4e65b84824d5e42dd1bc",
            "92ca859b560048d6b62dcc9fd6b0bc0f",
            "c9fc3d54f10f4bb5b031a5a356f92222"
          ]
        },
        "outputId": "47073a9b-8c52-4575-c280-9645c0d058b9"
      },
      "execution_count": 43,
      "outputs": [
        {
          "output_type": "display_data",
          "data": {
            "text/plain": [
              "  0%|          | 0/599 [00:00<?, ?it/s]"
            ],
            "application/vnd.jupyter.widget-view+json": {
              "version_major": 2,
              "version_minor": 0,
              "model_id": "f1643bda02a04c0a93567ca6e54ab1e3"
            }
          },
          "metadata": {}
        }
      ]
    },
    {
      "cell_type": "code",
      "source": [
        "# count occurence of each phoneme in the story\n",
        "occurence = []\n",
        "for phoneme in phoneme_db.phoneme:\n",
        "  occurence.append(phoneme_list.count(phoneme))\n",
        "\n",
        "phoneme_db['occurence'] = occurence"
      ],
      "metadata": {
        "id": "G6ecMEGcpFiL"
      },
      "execution_count": 44,
      "outputs": []
    },
    {
      "cell_type": "code",
      "source": [
        "len(phoneme_db[phoneme_db.occurence == 0])"
      ],
      "metadata": {
        "colab": {
          "base_uri": "https://localhost:8080/"
        },
        "id": "WDLlIZMkriI1",
        "outputId": "2e0cfb68-b7e7-43bf-e1a3-6e284af65ab7"
      },
      "execution_count": 56,
      "outputs": [
        {
          "output_type": "execute_result",
          "data": {
            "text/plain": [
              "31"
            ]
          },
          "metadata": {},
          "execution_count": 56
        }
      ]
    },
    {
      "cell_type": "code",
      "source": [
        "phoneme_db.to_csv('occurence.csv')"
      ],
      "metadata": {
        "id": "SAg9uVuhrkTy"
      },
      "execution_count": 41,
      "outputs": []
    },
    {
      "cell_type": "code",
      "source": [
        "string = 'khác'\n",
        "IPA_en = IPA_extractor_en(string)\n",
        "IPA_vn, tone = IPA_extractor_vi(string)\n",
        "print(IPA_vn)\n",
        "print(IPA_en)"
      ],
      "metadata": {
        "colab": {
          "base_uri": "https://localhost:8080/"
        },
        "id": "9ZriMCfdvoLw",
        "outputId": "723d0212-8e4d-4c0e-f744-de8fcb89c7a0"
      },
      "execution_count": 24,
      "outputs": [
        {
          "output_type": "stream",
          "name": "stdout",
          "text": [
            "ʨaː\n",
            "<span class=\"IPA\">-ɑː</span\n"
          ]
        }
      ]
    },
    {
      "cell_type": "code",
      "source": [
        "# find duplicate phoneme character in initial and final\n",
        "a = phoneme_db[(phoneme_db.note == 'Initial consonants') | (phoneme_db.note=='Final consonants')].phoneme.duplicated()\n",
        "phoneme_db[(phoneme_db.note == 'Initial consonants') | (phoneme_db.note=='Final consonants')].phoneme[a]"
      ],
      "metadata": {
        "colab": {
          "base_uri": "https://localhost:8080/"
        },
        "id": "yVQ5uw0TSTSO",
        "outputId": "7351ddc8-5071-4996-92fd-ef86f59ca085"
      },
      "execution_count": 55,
      "outputs": [
        {
          "output_type": "execute_result",
          "data": {
            "text/plain": [
              "25    j\n",
              "26    m\n",
              "27    ŋ\n",
              "28    n\n",
              "31    k\n",
              "32    t\n",
              "34    w\n",
              "Name: phoneme, dtype: object"
            ]
          },
          "metadata": {},
          "execution_count": 55
        }
      ]
    },
    {
      "cell_type": "code",
      "source": [
        ""
      ],
      "metadata": {
        "id": "k-yoI08nlNkm"
      },
      "execution_count": null,
      "outputs": []
    }
  ]
}